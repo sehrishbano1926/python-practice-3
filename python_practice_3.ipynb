{
  "cells": [
    {
      "cell_type": "markdown",
      "id": "6e50c660",
      "metadata": {
        "id": "6e50c660"
      },
      "source": [
        "Exercise 1: List Manipulation\n",
        "\n",
        "a) Create a list with the following elements: 4, 7, 12, 27, 31, 42\n",
        "\n",
        "b) Add the element 9 to the end of the list\n",
        "\n",
        "c) Remove the last element of the list\n",
        "\n",
        "d) Remove the first element of the list\n",
        "\n",
        "e) Sort the list in ascending order\n",
        "\n",
        "f) Reverse the order of the list\n",
        "\n",
        "g) Insert the element 15 at index 3\n",
        "\n",
        "h) Print the list"
      ]
    },
    {
      "cell_type": "markdown",
      "source": [
        "# create my_list"
      ],
      "metadata": {
        "id": "f_y4fjTf1dPP"
      },
      "id": "f_y4fjTf1dPP"
    },
    {
      "cell_type": "code",
      "execution_count": null,
      "id": "74fb12f9",
      "metadata": {
        "id": "74fb12f9",
        "outputId": "51da847f-1692-4b55-9e62-f935c4b06442",
        "colab": {
          "base_uri": "https://localhost:8080/"
        }
      },
      "outputs": [
        {
          "output_type": "stream",
          "name": "stdout",
          "text": [
            "[4, 7, 12, 27, 31, 42]\n"
          ]
        }
      ],
      "source": [
        "my_list=[4, 7, 12, 27, 31, 42]\n",
        "print(my_list)"
      ]
    },
    {
      "cell_type": "markdown",
      "source": [
        "# Add the element 9 to the end of the list"
      ],
      "metadata": {
        "id": "lud0X_DFy8a5"
      },
      "id": "lud0X_DFy8a5"
    },
    {
      "cell_type": "code",
      "source": [
        "my_list.append(9)\n",
        "print(my_list)"
      ],
      "metadata": {
        "id": "RCDUHjdKyMJG",
        "outputId": "86e247d9-42a7-4689-e01d-a89b43728272",
        "colab": {
          "base_uri": "https://localhost:8080/"
        }
      },
      "id": "RCDUHjdKyMJG",
      "execution_count": null,
      "outputs": [
        {
          "output_type": "stream",
          "name": "stdout",
          "text": [
            "[4, 7, 12, 27, 31, 42, 9]\n"
          ]
        }
      ]
    },
    {
      "cell_type": "markdown",
      "source": [
        "# remove the last element"
      ],
      "metadata": {
        "id": "uJBimQMNzv5m"
      },
      "id": "uJBimQMNzv5m"
    },
    {
      "cell_type": "code",
      "source": [
        "my_list.pop(6)\n",
        "print(my_list)"
      ],
      "metadata": {
        "id": "YUmVzNPYy6yC",
        "outputId": "89cf46b8-0e6b-4791-ec00-9a91f00ad0fc",
        "colab": {
          "base_uri": "https://localhost:8080/"
        }
      },
      "id": "YUmVzNPYy6yC",
      "execution_count": null,
      "outputs": [
        {
          "output_type": "stream",
          "name": "stdout",
          "text": [
            "[4, 7, 12, 27, 31, 42]\n"
          ]
        }
      ]
    },
    {
      "cell_type": "markdown",
      "source": [
        "# remove the first list"
      ],
      "metadata": {
        "id": "HU7v6gRP0DeU"
      },
      "id": "HU7v6gRP0DeU"
    },
    {
      "cell_type": "code",
      "source": [
        "my_list.pop(0)\n",
        "print(my_list)"
      ],
      "metadata": {
        "id": "Rvq8U4Uoz3z5",
        "outputId": "717742e5-26fd-4baf-f85e-86103ad0aad9",
        "colab": {
          "base_uri": "https://localhost:8080/"
        }
      },
      "id": "Rvq8U4Uoz3z5",
      "execution_count": null,
      "outputs": [
        {
          "output_type": "stream",
          "name": "stdout",
          "text": [
            "[7, 12, 27, 31, 42]\n"
          ]
        }
      ]
    },
    {
      "cell_type": "markdown",
      "source": [
        "# sort the list in ascendnding order"
      ],
      "metadata": {
        "id": "nm66i1xV0YtZ"
      },
      "id": "nm66i1xV0YtZ"
    },
    {
      "cell_type": "code",
      "source": [
        "my_list.sort()\n",
        "print(my_list)"
      ],
      "metadata": {
        "id": "X4EFey_G0Imt",
        "outputId": "b6bf8eed-b142-4165-991a-624c8bc7e278",
        "colab": {
          "base_uri": "https://localhost:8080/"
        }
      },
      "id": "X4EFey_G0Imt",
      "execution_count": null,
      "outputs": [
        {
          "output_type": "stream",
          "name": "stdout",
          "text": [
            "[7, 12, 27, 31, 42]\n"
          ]
        }
      ]
    },
    {
      "cell_type": "markdown",
      "source": [
        "# reverse the list"
      ],
      "metadata": {
        "id": "9y3Nm0aP0qqr"
      },
      "id": "9y3Nm0aP0qqr"
    },
    {
      "cell_type": "code",
      "source": [
        "my_list.reverse()\n",
        "print(my_list)"
      ],
      "metadata": {
        "id": "ZDko4xSD0gIT",
        "outputId": "fcbb6a50-08ee-492b-cee3-a2dbbb7ec525",
        "colab": {
          "base_uri": "https://localhost:8080/"
        }
      },
      "id": "ZDko4xSD0gIT",
      "execution_count": null,
      "outputs": [
        {
          "output_type": "stream",
          "name": "stdout",
          "text": [
            "[42, 31, 27, 12, 7]\n"
          ]
        }
      ]
    },
    {
      "cell_type": "markdown",
      "source": [
        "# Insert the element 15 at index 3"
      ],
      "metadata": {
        "id": "Hn4KglPV1AGZ"
      },
      "id": "Hn4KglPV1AGZ"
    },
    {
      "cell_type": "code",
      "source": [
        "my_list.insert(3, 15)\n",
        "print(my_list)"
      ],
      "metadata": {
        "id": "O2c3qzK90uqN",
        "outputId": "09292c3a-08d6-465c-b1de-2d3e2ba54cab",
        "colab": {
          "base_uri": "https://localhost:8080/"
        }
      },
      "id": "O2c3qzK90uqN",
      "execution_count": null,
      "outputs": [
        {
          "output_type": "stream",
          "name": "stdout",
          "text": [
            "[42, 31, 27, 15, 12, 7]\n"
          ]
        }
      ]
    },
    {
      "cell_type": "markdown",
      "source": [
        "## list manipulation"
      ],
      "metadata": {
        "id": "DVg6RHV92mOT"
      },
      "id": "DVg6RHV92mOT"
    },
    {
      "cell_type": "code",
      "source": [
        "my_list=[4, 7, 12, 27, 31, 42]\n",
        "my_list.append(9)\n",
        "my_list.pop(6)\n",
        "my_list.pop(0)\n",
        "my_list.sort()\n",
        "my_list.reverse()\n",
        "my_list.insert(3, 15)\n",
        "print(my_list)"
      ],
      "metadata": {
        "id": "uLSIcNd41n4_",
        "outputId": "e17e0644-5517-4222-8171-89d51680b041",
        "colab": {
          "base_uri": "https://localhost:8080/"
        }
      },
      "id": "uLSIcNd41n4_",
      "execution_count": null,
      "outputs": [
        {
          "output_type": "stream",
          "name": "stdout",
          "text": [
            "[42, 31, 27, 15, 12, 7]\n"
          ]
        }
      ]
    },
    {
      "cell_type": "markdown",
      "id": "c2ae47c0",
      "metadata": {
        "id": "c2ae47c0"
      },
      "source": [
        "Exercise 2: Dictionary Manipulation\n",
        "    \n",
        "a) Create a dictionary with the following key-value pairs: \"one\": 1, \"two\": 2, \"three\": 3, \"four\": 4\n",
        "\n",
        "b) Access the value associated with the key \"two\"\n",
        "\n",
        "c) Update the value associated with the key \"one\" to 11\n",
        "\n",
        "d) Remove the key-value pair with the key \"three\"\n",
        "\n",
        "e) Print the dictionary keys\n",
        "\n",
        "f) Print the dictionary values"
      ]
    },
    {
      "cell_type": "markdown",
      "source": [
        "# create my_dict"
      ],
      "metadata": {
        "id": "HiSAccDt5Q8_"
      },
      "id": "HiSAccDt5Q8_"
    },
    {
      "cell_type": "code",
      "execution_count": null,
      "id": "51aefdcc",
      "metadata": {
        "id": "51aefdcc",
        "outputId": "a3f3f65e-622b-4f37-d229-5620d0c96828",
        "colab": {
          "base_uri": "https://localhost:8080/"
        }
      },
      "outputs": [
        {
          "output_type": "stream",
          "name": "stdout",
          "text": [
            "{'one': 1, 'two': 2, 'three': 3, 'four': 4}\n"
          ]
        }
      ],
      "source": [
        "my_dict={\n",
        "    \"one\":1,\n",
        "    \"two\":2,\n",
        "    \"three\":3,\n",
        "    \"four\":4\n",
        "}\n",
        "print(my_dict)"
      ]
    },
    {
      "cell_type": "markdown",
      "source": [
        "## Access the value associated with the key \"two\""
      ],
      "metadata": {
        "id": "FBE0a6cK6PUV"
      },
      "id": "FBE0a6cK6PUV"
    },
    {
      "cell_type": "code",
      "source": [
        "value_two=my_dict[\"two\"]\n",
        "print(value_two)"
      ],
      "metadata": {
        "id": "y-8veKA85VZS",
        "outputId": "5ce821cd-6252-456a-9500-e0069750a1b1",
        "colab": {
          "base_uri": "https://localhost:8080/"
        }
      },
      "id": "y-8veKA85VZS",
      "execution_count": null,
      "outputs": [
        {
          "output_type": "stream",
          "name": "stdout",
          "text": [
            "2\n"
          ]
        }
      ]
    },
    {
      "cell_type": "markdown",
      "source": [
        "# Update the value associated with the key \"one\" to 11"
      ],
      "metadata": {
        "id": "-YqX_Udj6aAD"
      },
      "id": "-YqX_Udj6aAD"
    },
    {
      "cell_type": "code",
      "source": [
        "my_dict[\"one\"]=11\n",
        "print(my_dict)"
      ],
      "metadata": {
        "id": "7nt-gBpS6V-K",
        "outputId": "10964c70-9b86-4026-e7b0-d502f3534290",
        "colab": {
          "base_uri": "https://localhost:8080/"
        }
      },
      "id": "7nt-gBpS6V-K",
      "execution_count": null,
      "outputs": [
        {
          "output_type": "stream",
          "name": "stdout",
          "text": [
            "{'one': 11, 'two': 2, 'three': 3, 'four': 4}\n"
          ]
        }
      ]
    },
    {
      "cell_type": "markdown",
      "source": [
        "# Remove the key-value pair with the key \"three\""
      ],
      "metadata": {
        "id": "zakbrjM96uF4"
      },
      "id": "zakbrjM96uF4"
    },
    {
      "cell_type": "code",
      "source": [
        "my_dict.pop(\"three\")\n",
        "print(my_dict)"
      ],
      "metadata": {
        "id": "pJFyXrRv60hp",
        "outputId": "230b8a4a-09fa-4f0d-a86d-807a98336551",
        "colab": {
          "base_uri": "https://localhost:8080/"
        }
      },
      "id": "pJFyXrRv60hp",
      "execution_count": null,
      "outputs": [
        {
          "output_type": "stream",
          "name": "stdout",
          "text": [
            "{'one': 11, 'two': 2, 'four': 4}\n"
          ]
        }
      ]
    },
    {
      "cell_type": "markdown",
      "id": "d3c23d80",
      "metadata": {
        "id": "d3c23d80"
      },
      "source": [
        "Exercise 3: Tuple Manipulation\n",
        "\n",
        "a) Create a tuple with the following elements: 5, 10, 15, 20, 25, 30\n",
        "\n",
        "b) Access the element at index 2\n",
        "\n",
        "c) Count the occurrences of 15 in the tuple\n",
        "\n",
        "d) Find the index of the element 25 in the tuple"
      ]
    },
    {
      "cell_type": "code",
      "execution_count": null,
      "id": "67a4dd2b",
      "metadata": {
        "id": "67a4dd2b",
        "outputId": "2c42a2ce-6e89-4472-8f94-7347e8c641eb",
        "colab": {
          "base_uri": "https://localhost:8080/"
        }
      },
      "outputs": [
        {
          "output_type": "stream",
          "name": "stdout",
          "text": [
            "(5, 10, 15, 20, 25, 30)\n"
          ]
        }
      ],
      "source": [
        "my_tuple=(5, 10, 15, 20, 25, 30)\n",
        "print(my_tuple)"
      ]
    },
    {
      "cell_type": "markdown",
      "source": [
        "# Access the element at index 2"
      ],
      "metadata": {
        "id": "8dcsVmqF8Sar"
      },
      "id": "8dcsVmqF8Sar"
    },
    {
      "cell_type": "code",
      "source": [
        "index=my_tuple[2]\n",
        "print(index)"
      ],
      "metadata": {
        "id": "t10BEunR8T53",
        "outputId": "75e9d064-aa2e-44d6-d861-5274a6b1bf2b",
        "colab": {
          "base_uri": "https://localhost:8080/"
        }
      },
      "id": "t10BEunR8T53",
      "execution_count": null,
      "outputs": [
        {
          "output_type": "stream",
          "name": "stdout",
          "text": [
            "15\n"
          ]
        }
      ]
    },
    {
      "cell_type": "markdown",
      "source": [
        "# Count the occurrences of 15 in the tuple"
      ],
      "metadata": {
        "id": "i8jw6iTa87Q1"
      },
      "id": "i8jw6iTa87Q1"
    },
    {
      "cell_type": "code",
      "source": [
        "count=my_tuple.count(15)\n",
        "print(count)"
      ],
      "metadata": {
        "id": "apdICFCC8_90",
        "outputId": "3d8ec6ae-f37b-450e-fc49-83196e83dd39",
        "colab": {
          "base_uri": "https://localhost:8080/"
        }
      },
      "id": "apdICFCC8_90",
      "execution_count": null,
      "outputs": [
        {
          "output_type": "stream",
          "name": "stdout",
          "text": [
            "1\n"
          ]
        }
      ]
    },
    {
      "cell_type": "markdown",
      "source": [
        "# Find the index of the element 25 in the tuple"
      ],
      "metadata": {
        "id": "7cjiSR_M9x7R"
      },
      "id": "7cjiSR_M9x7R"
    },
    {
      "cell_type": "code",
      "source": [
        "index=my_tuple.index(25)\n",
        "print(index)"
      ],
      "metadata": {
        "id": "5-G37RiN94Gz",
        "outputId": "14cbf76f-a525-499c-a7ea-f2f617e2fa68",
        "colab": {
          "base_uri": "https://localhost:8080/"
        }
      },
      "id": "5-G37RiN94Gz",
      "execution_count": null,
      "outputs": [
        {
          "output_type": "stream",
          "name": "stdout",
          "text": [
            "4\n"
          ]
        }
      ]
    },
    {
      "cell_type": "markdown",
      "id": "ba5a02fb",
      "metadata": {
        "id": "ba5a02fb"
      },
      "source": [
        "Exercise 4: Set Manipulation\n",
        "\n",
        "a) Create a set with the following elements: 2, 4, 6, 8, 10\n",
        "\n",
        "b) Add the element 12 to the set\n",
        "\n",
        "c) Remove the element 4 from the set\n",
        "\n",
        "d) Check if the element 6 is in the set\n",
        "\n",
        "e) Print the set"
      ]
    },
    {
      "cell_type": "markdown",
      "source": [
        "# create a set"
      ],
      "metadata": {
        "id": "kJ5LsXAC_I2r"
      },
      "id": "kJ5LsXAC_I2r"
    },
    {
      "cell_type": "code",
      "execution_count": null,
      "id": "49ea08ca",
      "metadata": {
        "id": "49ea08ca",
        "outputId": "0d2ba0e4-4822-4916-ec91-81f520658c58",
        "colab": {
          "base_uri": "https://localhost:8080/"
        }
      },
      "outputs": [
        {
          "output_type": "stream",
          "name": "stdout",
          "text": [
            "{2, 4, 6, 8, 10}\n"
          ]
        }
      ],
      "source": [
        "my_set={2, 4, 6, 8, 10}\n",
        "print(my_set)"
      ]
    },
    {
      "cell_type": "markdown",
      "source": [
        "# Add the element 12 to the set"
      ],
      "metadata": {
        "id": "9inHASuI_bMD"
      },
      "id": "9inHASuI_bMD"
    },
    {
      "cell_type": "code",
      "source": [
        "my_set.add(12)\n",
        "print(my_set)"
      ],
      "metadata": {
        "id": "SMqXhxV0_gBX",
        "outputId": "3378236e-4bc5-4605-d714-0922ccb098bd",
        "colab": {
          "base_uri": "https://localhost:8080/"
        }
      },
      "id": "SMqXhxV0_gBX",
      "execution_count": null,
      "outputs": [
        {
          "output_type": "stream",
          "name": "stdout",
          "text": [
            "{2, 4, 6, 8, 10, 12}\n"
          ]
        }
      ]
    },
    {
      "cell_type": "markdown",
      "source": [
        "# Remove the element 4 from the set"
      ],
      "metadata": {
        "id": "Mc3uhJSL_wcb"
      },
      "id": "Mc3uhJSL_wcb"
    },
    {
      "cell_type": "code",
      "source": [
        "my_set.remove(4)\n",
        "print(my_set)"
      ],
      "metadata": {
        "id": "bXW_4bFb_2CY",
        "outputId": "40512c05-07fa-4783-e748-4caf7286d025",
        "colab": {
          "base_uri": "https://localhost:8080/"
        }
      },
      "id": "bXW_4bFb_2CY",
      "execution_count": null,
      "outputs": [
        {
          "output_type": "stream",
          "name": "stdout",
          "text": [
            "{2, 6, 8, 10, 12}\n"
          ]
        }
      ]
    },
    {
      "cell_type": "markdown",
      "source": [
        "# Check if the element 6 is in the set"
      ],
      "metadata": {
        "id": "MfBfLZof_8gR"
      },
      "id": "MfBfLZof_8gR"
    },
    {
      "cell_type": "code",
      "source": [
        "check=6 in my_set\n",
        "print(check)"
      ],
      "metadata": {
        "id": "5VEs4hbhACUm",
        "outputId": "bc3a7021-eb43-448f-d060-8052c934b25e",
        "colab": {
          "base_uri": "https://localhost:8080/"
        }
      },
      "id": "5VEs4hbhACUm",
      "execution_count": null,
      "outputs": [
        {
          "output_type": "stream",
          "name": "stdout",
          "text": [
            "True\n"
          ]
        }
      ]
    },
    {
      "cell_type": "markdown",
      "id": "4ac90821",
      "metadata": {
        "id": "4ac90821"
      },
      "source": [
        "Exercise 5: Converting a list to a set\n",
        "\n",
        "a) Create a list with the following elements: 3, 5, 7, 9, 11, 13, 15, 15, 13, 11, 9, 7, 5, 3\n",
        "\n",
        "b) Convert the list to a set and print it"
      ]
    },
    {
      "cell_type": "code",
      "execution_count": null,
      "id": "04bd4413",
      "metadata": {
        "id": "04bd4413",
        "outputId": "19a90821-7376-4931-a7b0-c6b7228b51bf",
        "colab": {
          "base_uri": "https://localhost:8080/"
        }
      },
      "outputs": [
        {
          "output_type": "stream",
          "name": "stdout",
          "text": [
            "[3, 5, 7, 9, 11, 13, 15, 15, 13, 11, 9, 7, 5, 3]\n"
          ]
        }
      ],
      "source": [
        "list=[3, 5, 7, 9, 11, 13, 15, 15, 13, 11, 9, 7, 5, 3]\n",
        "print(list)"
      ]
    },
    {
      "cell_type": "code",
      "source": [
        "type(list)"
      ],
      "metadata": {
        "id": "yDsgtI8-DqN7",
        "outputId": "3e7981c7-6055-4833-deea-21930844fc38",
        "colab": {
          "base_uri": "https://localhost:8080/"
        }
      },
      "id": "yDsgtI8-DqN7",
      "execution_count": null,
      "outputs": [
        {
          "output_type": "execute_result",
          "data": {
            "text/plain": [
              "list"
            ]
          },
          "metadata": {},
          "execution_count": 56
        }
      ]
    },
    {
      "cell_type": "code",
      "source": [
        "your_set=set(list)\n",
        "print(your_set)"
      ],
      "metadata": {
        "id": "3bAQebvWFxdh",
        "outputId": "d9dda35d-bf05-4e0b-a207-9896b558fed2",
        "colab": {
          "base_uri": "https://localhost:8080/"
        }
      },
      "id": "3bAQebvWFxdh",
      "execution_count": null,
      "outputs": [
        {
          "output_type": "stream",
          "name": "stdout",
          "text": [
            "{3, 5, 7, 9, 11, 13, 15}\n"
          ]
        }
      ]
    },
    {
      "cell_type": "markdown",
      "id": "65cec4a7",
      "metadata": {
        "id": "65cec4a7"
      },
      "source": [
        "Exercise 6: List slicing\n",
        "\n",
        "a) Create a list with the following elements: 1, 2, 3, 4, 5, 6, 7, 8, 9, 10\n",
        "\n",
        "b) Print the list from index 2 to 6 (inclusive)\n",
        "\n",
        "c) Print the list from index 4 to the end\n",
        "\n",
        "d) Print the first 3 elements of the list\n",
        "\n",
        "e) Print the list in reverse order"
      ]
    },
    {
      "cell_type": "markdown",
      "source": [
        "# creat list slicing"
      ],
      "metadata": {
        "id": "Y11WGXnwAykw"
      },
      "id": "Y11WGXnwAykw"
    },
    {
      "cell_type": "code",
      "execution_count": null,
      "id": "f455e2a1",
      "metadata": {
        "id": "f455e2a1",
        "outputId": "773ecd3f-a27d-4f9a-8fc4-f79c7e8a1a34",
        "colab": {
          "base_uri": "https://localhost:8080/"
        }
      },
      "outputs": [
        {
          "output_type": "stream",
          "name": "stdout",
          "text": [
            "[1, 2, 3, 4, 5, 6, 7, 8, 9, 10]\n"
          ]
        }
      ],
      "source": [
        "your_list=[1, 2, 3, 4, 5, 6, 7, 8, 9, 10]\n",
        "print(your_list)"
      ]
    },
    {
      "cell_type": "markdown",
      "source": [
        "# Print the list from index 2 to 6 (inclusive)"
      ],
      "metadata": {
        "id": "yv6JTgkKCalg"
      },
      "id": "yv6JTgkKCalg"
    },
    {
      "cell_type": "code",
      "execution_count": null,
      "id": "e46aa1ab",
      "metadata": {
        "id": "e46aa1ab",
        "outputId": "4a9416cc-157a-48ec-9c54-21ba21d593ab",
        "colab": {
          "base_uri": "https://localhost:8080/"
        }
      },
      "outputs": [
        {
          "output_type": "stream",
          "name": "stdout",
          "text": [
            "[2, 3, 4, 5, 6]\n"
          ]
        }
      ],
      "source": [
        "indexes=your_list[1:6]\n",
        "print(indexes)"
      ]
    },
    {
      "cell_type": "markdown",
      "source": [
        "# Print the list from index 4 to the end"
      ],
      "metadata": {
        "id": "SqdBUpsADH6n"
      },
      "id": "SqdBUpsADH6n"
    },
    {
      "cell_type": "code",
      "source": [
        "index=your_list[4:]\n",
        "print(index)"
      ],
      "metadata": {
        "id": "toyjcznjC4Ul",
        "outputId": "a738f38a-831f-4a00-c73e-3b0d93a26b0c",
        "colab": {
          "base_uri": "https://localhost:8080/"
        }
      },
      "id": "toyjcznjC4Ul",
      "execution_count": null,
      "outputs": [
        {
          "output_type": "stream",
          "name": "stdout",
          "text": [
            "[5, 6, 7, 8, 9, 10]\n"
          ]
        }
      ]
    },
    {
      "cell_type": "markdown",
      "source": [
        "# Print the first 3 elements of the list(plz check it carefully sir)"
      ],
      "metadata": {
        "id": "AvzT-2pZGG7U"
      },
      "id": "AvzT-2pZGG7U"
    },
    {
      "cell_type": "code",
      "source": [
        "elements=your_list[:3]\n",
        "print(elements)"
      ],
      "metadata": {
        "id": "TIZqfdCyDU97",
        "outputId": "dc3804bf-6c69-4eb2-d537-cff02e7e54ed",
        "colab": {
          "base_uri": "https://localhost:8080/"
        }
      },
      "id": "TIZqfdCyDU97",
      "execution_count": null,
      "outputs": [
        {
          "output_type": "stream",
          "name": "stdout",
          "text": [
            "[1, 2, 3]\n"
          ]
        }
      ]
    },
    {
      "cell_type": "markdown",
      "source": [
        "# ) Print the list in reverse order"
      ],
      "metadata": {
        "id": "WIatAzz2H1vx"
      },
      "id": "WIatAzz2H1vx"
    },
    {
      "cell_type": "code",
      "source": [
        "reversed_list = your_list[::-1]\n",
        "print(\"your_List in reverse order:\", reversed_list)"
      ],
      "metadata": {
        "id": "Hn7xGOODGAFp",
        "outputId": "8b96ba9e-79ea-411a-af74-4c5c4fe9642e",
        "colab": {
          "base_uri": "https://localhost:8080/"
        }
      },
      "id": "Hn7xGOODGAFp",
      "execution_count": null,
      "outputs": [
        {
          "output_type": "stream",
          "name": "stdout",
          "text": [
            "your_List in reverse order: [10, 9, 8, 7, 6, 5, 4, 3, 2, 1]\n"
          ]
        }
      ]
    },
    {
      "cell_type": "code",
      "source": [],
      "metadata": {
        "id": "xMRvqX8TH_sC"
      },
      "id": "xMRvqX8TH_sC",
      "execution_count": null,
      "outputs": []
    }
  ],
  "metadata": {
    "kernelspec": {
      "display_name": "Python 3 (ipykernel)",
      "language": "python",
      "name": "python3"
    },
    "language_info": {
      "codemirror_mode": {
        "name": "ipython",
        "version": 3
      },
      "file_extension": ".py",
      "mimetype": "text/x-python",
      "name": "python",
      "nbconvert_exporter": "python",
      "pygments_lexer": "ipython3",
      "version": "3.10.9"
    },
    "colab": {
      "provenance": []
    }
  },
  "nbformat": 4,
  "nbformat_minor": 5
}